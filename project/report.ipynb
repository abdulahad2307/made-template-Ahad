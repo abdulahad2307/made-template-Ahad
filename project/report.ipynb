{
 "cells": [
  {
   "cell_type": "markdown",
   "metadata": {},
   "source": [
    "## Impact of weather in the Paphos International Airport of Cyprus daily air traffic"
   ]
  },
  {
   "cell_type": "markdown",
   "metadata": {},
   "source": [
    "#### Outline:\n",
    "\n",
    "##### 1. Introduction\n",
    "##### 2. Methods\n",
    "##### 3. Result\n",
    "##### 4. Discussion\n",
    "\n"
   ]
  },
  {
   "cell_type": "markdown",
   "metadata": {},
   "source": [
    "# 1. Introducation:\n",
    "The Paphos International Airport plays a crucial role in connecting Cyprus to the global network of air travel. As a vital transportation hub, it is essential to understand how daily air traffic at this airport is influenced by weather conditions. This data science project focuses on analyzing the relationship between weather patterns and air traffic to provide valuable insights for airlines, passengers, and decision-makers. By examining these factors, we aim to help stakeholders better plan and manage their operations, ultimately benefiting Cyprus's economy and promoting efficient and safe air travel.\n",
    "\n",
    "Now, the question that interests us is: How do the weather conditions in Paphos International Airport impact air traffic throughout the year? And we will try to answer this question by focusing on several short questions.\n",
    "\n",
    "\n",
    "1. How does the air traffic volume at Paphos International Airport vary throughout the year?\n",
    "2. How does the wind speed at Paphos International Airport vary throughout the year?\n",
    "3. Does wind speed affect air traffic volume at Paphos International Airport?\n",
    "4. How does the wind direction at Paphos International Airport vary throughout the year?\n",
    "5. Does wind direction affect air traffic volume at Paphos International Airport?\n",
    "6. How does the temperature at Paphos International Airport vary throughout the year?\n",
    "7. Does temperature affect air traffic volume at Paphos International Airport?\n",
    "8. Is there any relation between the average sea-level air pressure on the total air traffic at Paphos International Airport?\n",
    "\n",
    "## 1.1. Data Source Deatils:\n",
    "    \n",
    "To answer those questions for this project we are using two open data sources: [European Data Portal](https://data.europa.eu/data/datasets/64a4860b-e33b-4dec-9738-bbadb5c0fe8c?locale=en), which contains information on air traffic in Paphos International Airport, and [meteostat](https://meteostat.net/en/), which provides daily weather and climate data of Paphos International Airport.\n",
    "\n",
    "### Datasource 1: European Data Portal - Daily Air Traffic at Paphos Airport\n",
    "#### Metadata URL: https://data.europa.eu/en\n",
    "#### Sample Data URL: https://view.officeapps.live.com/op/view.aspx?src=https%3A%2F%2Fwww.data.gov.cy%2Fsites%2Fdefault%2Ffiles%2FPAFOS%2520AIRPORT%2520DAILY%2520AIR%2520TRAFFIC%25202019.xlsx&wdOrigin=BROWSELINK\n",
    "#### Data Type: XLSX\n",
    "#### Data Descriptions:\n",
    "In this data source contains daily air traffic data of Paphos International Airport divided by monthly basis. Data includes tanding and take-off count of both the international and national flights. This dataset also takes into account the transit flights and helicopters landing and take-off information. \n",
    "\n",
    "### Datasource 2: Meteostat Developers - Dail weather data of Paphos International Airport of Cyprus\n",
    "#### Metadata URL: https://dev.meteostat.net/bulk/daily.html#endpoints\n",
    "Sample Data URL: https://bulk.meteostat.net/v2/daily/{station}.csv.gz Station-id of Paphos Airport = '17600'\n",
    "#### Data Type: CSV\n",
    "#### Data Descriptions:\n",
    "This data source will provide daily weather and climate data of Paphos Airport that includes average air temperature, daily minimum and maximum air temperature, monthly precipitation total, maximum snow depth, average wind direction and speed, peak wind gust, average sea-level air pressure, and monthly sunshine total."
   ]
  },
  {
   "cell_type": "code",
   "execution_count": null,
   "metadata": {},
   "outputs": [],
   "source": []
  },
  {
   "cell_type": "markdown",
   "metadata": {},
   "source": []
  }
 ],
 "metadata": {
  "language_info": {
   "name": "python"
  }
 },
 "nbformat": 4,
 "nbformat_minor": 2
}
